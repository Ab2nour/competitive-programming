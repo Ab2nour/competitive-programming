{
 "cells": [
  {
   "cell_type": "markdown",
   "source": [
    "# Énoncé formel"
   ],
   "metadata": {
    "collapsed": false,
    "pycharm": {
     "name": "#%% md\n"
    }
   }
  },
  {
   "cell_type": "markdown",
   "source": [
    "Soient :\n",
    "- $L \\in [[1, 500]]$ le nombre de lignes\n",
    "- $C \\in [[1, 500]]$ le nombre de colonnes\n",
    "- $P \\in [[1, 100]]$ le coût de creusée d'un palier"
   ],
   "metadata": {
    "collapsed": false,
    "pycharm": {
     "name": "#%% md\n"
    }
   }
  },
  {
   "cell_type": "markdown",
   "source": [
    "Nous comptons les indices à partir de 0.\n",
    "\n",
    "La ligne du haut sera donc la ligne 0, puis la ligne 1, ..., jusqu'à la ligne $L-1$"
   ],
   "metadata": {
    "collapsed": false,
    "pycharm": {
     "name": "#%% md\n"
    }
   }
  },
  {
   "cell_type": "markdown",
   "source": [
    "Soit $\\text{minerai}$ la fonction qui renvoie la valeur d'une case à l'indice $(i, j)$\n",
    "\n",
    "$\\text{minerai} : [[0, L - 1]] \\times [[0, C - 1]] \\mapsto \\mathbb{Z}$"
   ],
   "metadata": {
    "collapsed": false,
    "pycharm": {
     "name": "#%% md\n"
    }
   }
  },
  {
   "cell_type": "code",
   "execution_count": null,
   "outputs": [],
   "source": [],
   "metadata": {
    "collapsed": false,
    "pycharm": {
     "name": "#%%\n"
    }
   }
  },
  {
   "cell_type": "code",
   "execution_count": null,
   "outputs": [],
   "source": [],
   "metadata": {
    "collapsed": false,
    "pycharm": {
     "name": "#%%\n"
    }
   }
  },
  {
   "cell_type": "code",
   "execution_count": null,
   "outputs": [],
   "source": [],
   "metadata": {
    "collapsed": false,
    "pycharm": {
     "name": "#%%\n"
    }
   }
  },
  {
   "cell_type": "code",
   "execution_count": null,
   "outputs": [],
   "source": [],
   "metadata": {
    "collapsed": false,
    "pycharm": {
     "name": "#%%\n"
    }
   }
  },
  {
   "cell_type": "code",
   "execution_count": null,
   "outputs": [],
   "source": [],
   "metadata": {
    "collapsed": false,
    "pycharm": {
     "name": "#%%\n"
    }
   }
  },
  {
   "cell_type": "code",
   "execution_count": null,
   "outputs": [],
   "source": [],
   "metadata": {
    "collapsed": false,
    "pycharm": {
     "name": "#%%\n"
    }
   }
  },
  {
   "cell_type": "code",
   "execution_count": null,
   "outputs": [],
   "source": [],
   "metadata": {
    "collapsed": false,
    "pycharm": {
     "name": "#%%\n"
    }
   }
  },
  {
   "cell_type": "markdown",
   "source": [
    "idée : exprimer f(a, b) en fonction de f(0, a) et f(0, b)\n",
    "idée : exprimer f(a, b, c) en fonction de f(0, a, c) et f(0, b, c)\n",
    "\n",
    "Soit $L$ le nombre de lignes, $C$ le nombre de colonnes et $P$ le coût de creusée d'un pallier.\n"
   ],
   "metadata": {
    "collapsed": false,
    "pycharm": {
     "name": "#%% md\n"
    }
   }
  },
  {
   "cell_type": "markdown",
   "source": [
    "Soit minerai la fonction qui renvoie le bénéfice d'une case creusée à l'indice $(i, j)$ (en partant de 0)\n",
    "\n",
    "$\\text{minerai} : [[0, L - 1]] \\times [[0, C - 1]] \\mapsto \\mathbb{Z}$"
   ],
   "metadata": {
    "collapsed": false,
    "pycharm": {
     "name": "#%% md\n"
    }
   }
  },
  {
   "cell_type": "markdown",
   "source": [
    "Cas d'arrêt (une seule case, en bas).\n",
    "\n",
    "$\\forall a \\in [[0, C - 1]], f(a, a, L - 1) = \\max\\Big(0, \\text{minerai}(L - 1, a) - P\\Big)$"
   ],
   "metadata": {
    "collapsed": false,
    "pycharm": {
     "name": "#%% md\n"
    }
   }
  },
  {
   "cell_type": "markdown",
   "source": [
    "Cas une seule case, avant-dernière ligne.\n",
    "\n",
    "Soit $a \\in [[0, C - 1]]$, on a $f(a, a, L - 2) = \\max\\Big(0, \\text{minerai}(L - 2, a) - P + f(a, a, L - 1)\\Big) = \\max\\Big(0, \\text{minerai}(L - 2, a) - P + \\max\\Big(0, \\text{minerai}(L - 1, a) - P\\Big)\\Big)$"
   ],
   "metadata": {
    "collapsed": false,
    "pycharm": {
     "name": "#%% md\n"
    }
   }
  },
  {
   "cell_type": "markdown",
   "source": [
    "Je me risque à dire que\n",
    "\n",
    "$f(a, a, L - 2) = \\max\\Big(0, \\text{minerai}(L - 2, a) - P, \\text{minerai}(L - 2, a) + \\text{minerai}(L - 1, a) - 2P\\Big)$"
   ],
   "metadata": {
    "collapsed": false,
    "pycharm": {
     "name": "#%% md\n"
    }
   }
  },
  {
   "cell_type": "markdown",
   "source": [
    "2 colonnes, 2 cases du bas\n",
    "\n",
    "1) aucune case\n",
    "2) les deux cases\n",
    "3) en bas à gauche\n",
    "4) en bas à droite\n",
    "\n",
    "avec $a \\in [[0, C - 2]]$\n",
    "\n",
    "$f(a, a + 1, L - 1) = \\max\\Big(0, \\text{minerai}(L - 1, a) + \\text{minerai}(L - 1, a + 1) - P,  \\text{minerai}(L - 1, a) - P, \\text{minerai}(L - 1, a + 1) - P \\Big)$"
   ],
   "metadata": {
    "collapsed": false,
    "pycharm": {
     "name": "#%% md\n"
    }
   }
  },
  {
   "cell_type": "markdown",
   "source": [
    "2 colonnes, 4 cases du bas\n",
    "\n",
    "avec $a \\in [[0, C - 2]]$\n",
    "\n",
    "$f(a, a + 1, L - 2) = $ max entre :\n",
    "\n",
    "- 0\n",
    "- f(a, a, L - 2)\n",
    "- f(a + 1, a + 1, L - 2)\n",
    "- minerai(L - 2, a) + minerai(L - 2, a + 1) - P + f(a, a + 1, L -1)\n",
    "\n",
    "\n",
    "$\\max\\Big(0, \\text{minerai}(L - 1, a) + \\text{minerai}(L - 1, a + 1) - P,  \\text{minerai}(L - 1, a) - P, \\text{minerai}(L - 1, a + 1) - P \\Big)$"
   ],
   "metadata": {
    "collapsed": false,
    "pycharm": {
     "name": "#%% md\n"
    }
   }
  },
  {
   "cell_type": "markdown",
   "source": [
    "$f(a, a + 1, c) = \\max()$"
   ],
   "metadata": {
    "collapsed": false,
    "pycharm": {
     "name": "#%% md\n"
    }
   }
  },
  {
   "cell_type": "markdown",
   "source": [
    "$f(a, b, c) = \\max()$"
   ],
   "metadata": {
    "collapsed": false,
    "pycharm": {
     "name": "#%% md\n"
    }
   }
  },
  {
   "cell_type": "markdown",
   "source": [
    "\n",
    "\n",
    "$f(a, a, 0) = $"
   ],
   "metadata": {
    "collapsed": false,
    "pycharm": {
     "name": "#%% md\n"
    }
   }
  },
  {
   "cell_type": "markdown",
   "source": [
    "# Brouillon code"
   ],
   "metadata": {
    "collapsed": false,
    "pycharm": {
     "name": "#%% md\n"
    }
   }
  },
  {
   "cell_type": "code",
   "execution_count": null,
   "outputs": [],
   "source": [],
   "metadata": {
    "collapsed": false,
    "pycharm": {
     "name": "#%%\n"
    }
   }
  },
  {
   "cell_type": "code",
   "execution_count": null,
   "outputs": [],
   "source": [
    "# pour (i, j)\n",
    "profit_max = max(\n",
    "    0,\n",
    "    fonc(0, j - 1) + somme_case(0, i, j) - (i - 0) * P,\n",
    "    fonc(1, j - 1) + somme_case(1, i, j) - (i - 1) * P,\n",
    "    fonc(2, j - 1) + somme_case(2, i, j) - (i - 2) * P,\n",
    "    fonc(3, j - 1) + somme_case(3, i, j) - (i - 3) * P,\n",
    "    fonc(4, j - 1) + somme_case(4, i, j) - (i - 4) * P,\n",
    ")"
   ],
   "metadata": {
    "collapsed": false,
    "pycharm": {
     "name": "#%%\n"
    }
   }
  },
  {
   "cell_type": "code",
   "execution_count": null,
   "outputs": [],
   "source": [
    "# pour (i - 1, j)\n",
    "profit_max = max(\n",
    "    0,\n",
    "    fonc(0, j - 1) + somme_case(0, i - 1, j) - (i - 1 - 0) * P,\n",
    "    fonc(1, j - 1) + somme_case(1, i - 1, j) - (i - 1 - 1) * P,\n",
    "    fonc(2, j - 1) + somme_case(2, i - 1, j) - (i - 1 - 2) * P,\n",
    "    fonc(3, j - 1) + somme_case(3, i - 1, j) - (i - 1 - 3) * P,\n",
    "    fonc(4, j - 1) + somme_case(4, i - 1, j) - (i - 1 - 4) * P,\n",
    ")"
   ],
   "metadata": {
    "collapsed": false,
    "pycharm": {
     "name": "#%%\n"
    }
   }
  }
 ],
 "metadata": {
  "kernelspec": {
   "display_name": "Python 3",
   "language": "python",
   "name": "python3"
  },
  "language_info": {
   "codemirror_mode": {
    "name": "ipython",
    "version": 2
   },
   "file_extension": ".py",
   "mimetype": "text/x-python",
   "name": "python",
   "nbconvert_exporter": "python",
   "pygments_lexer": "ipython2",
   "version": "2.7.6"
  }
 },
 "nbformat": 4,
 "nbformat_minor": 0
}